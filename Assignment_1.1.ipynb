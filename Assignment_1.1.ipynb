{
 "cells": [
  {
   "cell_type": "markdown",
   "id": "7cef090a",
   "metadata": {},
   "source": [
    "**Differences between SQL & NO-SQL Databases**\n",
    "\n",
    "**1. Data Model**\n",
    "\n",
    "SQL: Uses a table-based (relational) structure with predefined schemas (rows & columns). Relationships are defined using foreign keys.\n",
    "\n",
    "NoSQL: Uses flexible data models like key-value, document, column-family, or graph formats. No fixed schema.\n",
    "\n",
    "**2. Schema**\n",
    "\n",
    "SQL: Requires a rigid schema (structure must be defined before storing data).\n",
    "\n",
    "NoSQL: Schema-less – data can be stored in any format without predefined structure\n",
    "\n",
    "**3. Scalability**\n",
    "\n",
    "SQL: Primarily vertical scaling (adding more power to a single server).\n",
    "\n",
    "NoSQL: Designed for horizontal scaling (adding more servers to distribute load).\n",
    "\n",
    "**4. Query Language**\n",
    "\n",
    "SQL: Uses Structured Query Language (SQL) for defining and manipulating data.\n",
    "\n",
    "NoSQL: Uses database-specific query methods (e.g., MongoDB uses BSON queries, Cassandra uses CQL).\n",
    "\n",
    "**5. ACID vs. BASE**\n",
    "\n",
    "\n",
    "SQL: Follows ACID (Atomicity, Consistency, Isolation, Durability) for strong consistency.\n",
    "\n",
    "NoSQL: Follows BASE (Basically Available, Soft state, Eventually consistent) for high availability and flexibility.\n",
    "\n",
    "**6. Use Cases**\n",
    "\n",
    "SQL: Best for structured data, complex queries and transactions (e.g., banking systems).\n",
    "\n",
    "NoSQL: Ideal for unstructured data, high-speed read/writes and distributed systems (e.g., social media).\n"
   ]
  }
 ],
 "metadata": {
  "kernelspec": {
   "display_name": "gendata",
   "language": "python",
   "name": "python3"
  },
  "language_info": {
   "name": "python",
   "version": "3.13.3"
  }
 },
 "nbformat": 4,
 "nbformat_minor": 5
}
